{
  "nbformat": 4,
  "nbformat_minor": 0,
  "metadata": {
    "colab": {
      "name": "MI-462-Colab-Notebook.ipynb",
      "provenance": [],
      "collapsed_sections": [],
      "authorship_tag": "ABX9TyN0v/nESLIEBRxHxFvBaGwl",
      "include_colab_link": true
    },
    "kernelspec": {
      "name": "python3",
      "display_name": "Python 3"
    },
    "language_info": {
      "name": "python"
    }
  },
  "cells": [
    {
      "cell_type": "markdown",
      "metadata": {
        "id": "view-in-github",
        "colab_type": "text"
      },
      "source": [
        "<a href=\"https://colab.research.google.com/github/bmmcc4/MI-462-Pytorch/blob/main/MI_462_Colab_Notebook.ipynb\" target=\"_parent\"><img src=\"https://colab.research.google.com/assets/colab-badge.svg\" alt=\"Open In Colab\"/></a>"
      ]
    },
    {
      "cell_type": "markdown",
      "metadata": {
        "id": "S0c4V_yuF9Bg"
      },
      "source": [
        "### **MI-462 Applied AI Platforms & Projects**\n",
        "Bradley McAllister"
      ]
    },
    {
      "cell_type": "code",
      "metadata": {
        "colab": {
          "base_uri": "https://localhost:8080/"
        },
        "id": "e70iwBXVLChY",
        "outputId": "9d023777-964c-495a-b0c2-864a40de8fc0"
      },
      "source": [
        "# Clone Repo with data file\n",
        "!git clone https://github.com/bmmcc4/MI-462-Pytorch.git"
      ],
      "execution_count": 105,
      "outputs": [
        {
          "output_type": "stream",
          "name": "stdout",
          "text": [
            "Cloning into 'MI-462-Pytorch'...\n",
            "remote: Enumerating objects: 11, done.\u001b[K\n",
            "remote: Counting objects: 100% (11/11), done.\u001b[K\n",
            "remote: Compressing objects: 100% (11/11), done.\u001b[K\n",
            "remote: Total 11 (delta 3), reused 0 (delta 0), pack-reused 0\u001b[K\n",
            "Unpacking objects: 100% (11/11), done.\n"
          ]
        }
      ]
    },
    {
      "cell_type": "code",
      "metadata": {
        "id": "dU2GYywxGQG4"
      },
      "source": [
        "import pandas as pd\n",
        "import matplotlib.pyplot as plt\n",
        "from google.colab import files"
      ],
      "execution_count": 226,
      "outputs": []
    },
    {
      "cell_type": "code",
      "metadata": {
        "colab": {
          "base_uri": "https://localhost:8080/",
          "height": 17
        },
        "id": "IglALTpYGWXD",
        "outputId": "7229111e-82bb-409f-9e09-6c4dc0b4d53e"
      },
      "source": [
        "# Download\n",
        "files.download('MI-462-Pytorch/Electricity_Production_By_Source.csv')"
      ],
      "execution_count": 106,
      "outputs": [
        {
          "output_type": "display_data",
          "data": {
            "application/javascript": [
              "\n",
              "    async function download(id, filename, size) {\n",
              "      if (!google.colab.kernel.accessAllowed) {\n",
              "        return;\n",
              "      }\n",
              "      const div = document.createElement('div');\n",
              "      const label = document.createElement('label');\n",
              "      label.textContent = `Downloading \"${filename}\": `;\n",
              "      div.appendChild(label);\n",
              "      const progress = document.createElement('progress');\n",
              "      progress.max = size;\n",
              "      div.appendChild(progress);\n",
              "      document.body.appendChild(div);\n",
              "\n",
              "      const buffers = [];\n",
              "      let downloaded = 0;\n",
              "\n",
              "      const channel = await google.colab.kernel.comms.open(id);\n",
              "      // Send a message to notify the kernel that we're ready.\n",
              "      channel.send({})\n",
              "\n",
              "      for await (const message of channel.messages) {\n",
              "        // Send a message to notify the kernel that we're ready.\n",
              "        channel.send({})\n",
              "        if (message.buffers) {\n",
              "          for (const buffer of message.buffers) {\n",
              "            buffers.push(buffer);\n",
              "            downloaded += buffer.byteLength;\n",
              "            progress.value = downloaded;\n",
              "          }\n",
              "        }\n",
              "      }\n",
              "      const blob = new Blob(buffers, {type: 'application/binary'});\n",
              "      const a = document.createElement('a');\n",
              "      a.href = window.URL.createObjectURL(blob);\n",
              "      a.download = filename;\n",
              "      div.appendChild(a);\n",
              "      a.click();\n",
              "      div.remove();\n",
              "    }\n",
              "  "
            ],
            "text/plain": [
              "<IPython.core.display.Javascript object>"
            ]
          },
          "metadata": {}
        },
        {
          "output_type": "display_data",
          "data": {
            "application/javascript": [
              "download(\"download_fc07123f-d996-4a92-a9ef-b7f0b224ea60\", \"Electricity_Production_By_Source.csv\", 418837)"
            ],
            "text/plain": [
              "<IPython.core.display.Javascript object>"
            ]
          },
          "metadata": {}
        }
      ]
    },
    {
      "cell_type": "code",
      "metadata": {
        "id": "80zWXopbGnFI"
      },
      "source": [
        "# Save into DataFrame\n",
        "df = pd.read_csv('MI-462-Pytorch/Electricity_Production_By_Source.csv')"
      ],
      "execution_count": 107,
      "outputs": []
    },
    {
      "cell_type": "code",
      "metadata": {
        "colab": {
          "base_uri": "https://localhost:8080/",
          "height": 235
        },
        "id": "lMuGAhTwIfot",
        "outputId": "4b37c15b-45bc-4e08-90db-3adc420b8712"
      },
      "source": [
        "df.describe('')"
      ],
      "execution_count": 110,
      "outputs": [
        {
          "output_type": "execute_result",
          "data": {
            "text/html": [
              "<div>\n",
              "<style scoped>\n",
              "    .dataframe tbody tr th:only-of-type {\n",
              "        vertical-align: middle;\n",
              "    }\n",
              "\n",
              "    .dataframe tbody tr th {\n",
              "        vertical-align: top;\n",
              "    }\n",
              "\n",
              "    .dataframe thead th {\n",
              "        text-align: right;\n",
              "    }\n",
              "</style>\n",
              "<table border=\"1\" class=\"dataframe\">\n",
              "  <thead>\n",
              "    <tr style=\"text-align: right;\">\n",
              "      <th></th>\n",
              "      <th>Year</th>\n",
              "      <th>Electricity from coal (TWh)</th>\n",
              "      <th>Electricity from gas (TWh)</th>\n",
              "      <th>Electricity from hydro (TWh)</th>\n",
              "      <th>Electricity from other renewables (TWh)</th>\n",
              "      <th>Electricity from solar (TWh)</th>\n",
              "      <th>Electricity from oil (TWh)</th>\n",
              "      <th>Electricity from wind (TWh)</th>\n",
              "      <th>Electricity from nuclear (TWh)</th>\n",
              "    </tr>\n",
              "  </thead>\n",
              "  <tbody>\n",
              "    <tr>\n",
              "      <th>count</th>\n",
              "      <td>6241.000000</td>\n",
              "      <td>5221.000000</td>\n",
              "      <td>5221.000000</td>\n",
              "      <td>6241.000000</td>\n",
              "      <td>6206.000000</td>\n",
              "      <td>6241.000000</td>\n",
              "      <td>5221.000000</td>\n",
              "      <td>6241.000000</td>\n",
              "      <td>6241.000000</td>\n",
              "    </tr>\n",
              "    <tr>\n",
              "      <th>mean</th>\n",
              "      <td>2005.509534</td>\n",
              "      <td>142.853733</td>\n",
              "      <td>75.472403</td>\n",
              "      <td>53.165487</td>\n",
              "      <td>5.851306</td>\n",
              "      <td>2.014825</td>\n",
              "      <td>26.110770</td>\n",
              "      <td>6.316172</td>\n",
              "      <td>46.874202</td>\n",
              "    </tr>\n",
              "    <tr>\n",
              "      <th>std</th>\n",
              "      <td>9.299156</td>\n",
              "      <td>712.455843</td>\n",
              "      <td>342.984190</td>\n",
              "      <td>257.725337</td>\n",
              "      <td>32.334128</td>\n",
              "      <td>21.726406</td>\n",
              "      <td>110.222772</td>\n",
              "      <td>51.570081</td>\n",
              "      <td>227.223144</td>\n",
              "    </tr>\n",
              "    <tr>\n",
              "      <th>min</th>\n",
              "      <td>1985.000000</td>\n",
              "      <td>0.000000</td>\n",
              "      <td>0.000000</td>\n",
              "      <td>0.000000</td>\n",
              "      <td>0.000000</td>\n",
              "      <td>0.000000</td>\n",
              "      <td>0.000000</td>\n",
              "      <td>0.000000</td>\n",
              "      <td>0.000000</td>\n",
              "    </tr>\n",
              "    <tr>\n",
              "      <th>50%</th>\n",
              "      <td>2007.000000</td>\n",
              "      <td>0.000000</td>\n",
              "      <td>1.056576</td>\n",
              "      <td>1.957000</td>\n",
              "      <td>0.010000</td>\n",
              "      <td>0.000000</td>\n",
              "      <td>1.003232</td>\n",
              "      <td>0.000000</td>\n",
              "      <td>0.000000</td>\n",
              "    </tr>\n",
              "    <tr>\n",
              "      <th>max</th>\n",
              "      <td>2020.000000</td>\n",
              "      <td>9345.340997</td>\n",
              "      <td>5943.112329</td>\n",
              "      <td>4355.041636</td>\n",
              "      <td>702.887552</td>\n",
              "      <td>844.385951</td>\n",
              "      <td>1364.578206</td>\n",
              "      <td>1590.189440</td>\n",
              "      <td>2720.674471</td>\n",
              "    </tr>\n",
              "  </tbody>\n",
              "</table>\n",
              "</div>"
            ],
            "text/plain": [
              "              Year  ...  Electricity from nuclear (TWh)\n",
              "count  6241.000000  ...                     6241.000000\n",
              "mean   2005.509534  ...                       46.874202\n",
              "std       9.299156  ...                      227.223144\n",
              "min    1985.000000  ...                        0.000000\n",
              "50%    2007.000000  ...                        0.000000\n",
              "max    2020.000000  ...                     2720.674471\n",
              "\n",
              "[6 rows x 9 columns]"
            ]
          },
          "metadata": {},
          "execution_count": 110
        }
      ]
    },
    {
      "cell_type": "code",
      "metadata": {
        "colab": {
          "base_uri": "https://localhost:8080/"
        },
        "id": "TCWd7jm9Kc4L",
        "outputId": "b68a2404-1af7-44ff-a48d-639dfcb8079f"
      },
      "source": [
        "# One quantitative variable\n",
        "df['Electricity from coal (TWh)'].describe()"
      ],
      "execution_count": 112,
      "outputs": [
        {
          "output_type": "execute_result",
          "data": {
            "text/plain": [
              "count    5221.000000\n",
              "mean      142.853733\n",
              "std       712.455843\n",
              "min         0.000000\n",
              "25%         0.000000\n",
              "50%         0.000000\n",
              "75%        18.458000\n",
              "max      9345.340997\n",
              "Name: Electricity from coal (TWh), dtype: float64"
            ]
          },
          "metadata": {},
          "execution_count": 112
        }
      ]
    },
    {
      "cell_type": "markdown",
      "metadata": {
        "id": "SDenTkUzVAam"
      },
      "source": [
        "I think it is useful to compare the average (mean) electricity produced from non-renewable sources such as coal to renewable sources such as solar. It is seen that most electricity in the world is produced from coal. Renewable sources are seen here to generally be used less than non-renewable sources in the production of electricity. I think grouping by the catagorical variable \"Country\" would provide more granular data to investigate what countries are utilizating what resources. As well, examining the average number for all sources for all countries over the years will provide a deeper look into the average number found in the result of the describe method. However, since average can be affected by things such as zeros, Nulls, or Outliers it is important to handle those before analysis."
      ]
    },
    {
      "cell_type": "code",
      "metadata": {
        "id": "DQ40SnuLWQfj"
      },
      "source": [
        "# Group\n",
        "df_grouped = df.groupby(['Entity'], as_index=False).mean()"
      ],
      "execution_count": 191,
      "outputs": []
    },
    {
      "cell_type": "code",
      "metadata": {
        "colab": {
          "base_uri": "https://localhost:8080/",
          "height": 419
        },
        "id": "CZp7855-Wdhp",
        "outputId": "8bcb6020-79e9-4d20-d4af-f49fed415051"
      },
      "source": [
        "df_grouped"
      ],
      "execution_count": 192,
      "outputs": [
        {
          "output_type": "execute_result",
          "data": {
            "text/html": [
              "<div>\n",
              "<style scoped>\n",
              "    .dataframe tbody tr th:only-of-type {\n",
              "        vertical-align: middle;\n",
              "    }\n",
              "\n",
              "    .dataframe tbody tr th {\n",
              "        vertical-align: top;\n",
              "    }\n",
              "\n",
              "    .dataframe thead th {\n",
              "        text-align: right;\n",
              "    }\n",
              "</style>\n",
              "<table border=\"1\" class=\"dataframe\">\n",
              "  <thead>\n",
              "    <tr style=\"text-align: right;\">\n",
              "      <th></th>\n",
              "      <th>Entity</th>\n",
              "      <th>Year</th>\n",
              "      <th>Electricity from coal (TWh)</th>\n",
              "      <th>Electricity from gas (TWh)</th>\n",
              "      <th>Electricity from hydro (TWh)</th>\n",
              "      <th>Electricity from other renewables (TWh)</th>\n",
              "      <th>Electricity from solar (TWh)</th>\n",
              "      <th>Electricity from oil (TWh)</th>\n",
              "      <th>Electricity from wind (TWh)</th>\n",
              "      <th>Electricity from nuclear (TWh)</th>\n",
              "    </tr>\n",
              "  </thead>\n",
              "  <tbody>\n",
              "    <tr>\n",
              "      <th>0</th>\n",
              "      <td>Afghanistan</td>\n",
              "      <td>2009.5</td>\n",
              "      <td>0.000000</td>\n",
              "      <td>0.192800</td>\n",
              "      <td>0.728800</td>\n",
              "      <td>0.000000</td>\n",
              "      <td>0.013670</td>\n",
              "      <td>0.000000</td>\n",
              "      <td>0.000016</td>\n",
              "      <td>0.000000</td>\n",
              "    </tr>\n",
              "    <tr>\n",
              "      <th>1</th>\n",
              "      <td>Africa</td>\n",
              "      <td>2002.0</td>\n",
              "      <td>214.756396</td>\n",
              "      <td>145.410151</td>\n",
              "      <td>84.308507</td>\n",
              "      <td>2.951156</td>\n",
              "      <td>1.400565</td>\n",
              "      <td>54.662103</td>\n",
              "      <td>2.540144</td>\n",
              "      <td>11.559217</td>\n",
              "    </tr>\n",
              "    <tr>\n",
              "      <th>2</th>\n",
              "      <td>Albania</td>\n",
              "      <td>2009.5</td>\n",
              "      <td>0.000000</td>\n",
              "      <td>0.000000</td>\n",
              "      <td>5.176417</td>\n",
              "      <td>0.000000</td>\n",
              "      <td>0.001560</td>\n",
              "      <td>0.046859</td>\n",
              "      <td>0.000000</td>\n",
              "      <td>0.000000</td>\n",
              "    </tr>\n",
              "    <tr>\n",
              "      <th>3</th>\n",
              "      <td>Algeria</td>\n",
              "      <td>2002.0</td>\n",
              "      <td>0.000000</td>\n",
              "      <td>45.529715</td>\n",
              "      <td>0.243729</td>\n",
              "      <td>0.000000</td>\n",
              "      <td>0.055300</td>\n",
              "      <td>0.000000</td>\n",
              "      <td>0.002257</td>\n",
              "      <td>0.000000</td>\n",
              "    </tr>\n",
              "    <tr>\n",
              "      <th>4</th>\n",
              "      <td>American Samoa</td>\n",
              "      <td>2009.5</td>\n",
              "      <td>0.000000</td>\n",
              "      <td>0.000000</td>\n",
              "      <td>0.000000</td>\n",
              "      <td>0.000000</td>\n",
              "      <td>0.000000</td>\n",
              "      <td>0.167950</td>\n",
              "      <td>0.000000</td>\n",
              "      <td>0.000000</td>\n",
              "    </tr>\n",
              "    <tr>\n",
              "      <th>...</th>\n",
              "      <td>...</td>\n",
              "      <td>...</td>\n",
              "      <td>...</td>\n",
              "      <td>...</td>\n",
              "      <td>...</td>\n",
              "      <td>...</td>\n",
              "      <td>...</td>\n",
              "      <td>...</td>\n",
              "      <td>...</td>\n",
              "      <td>...</td>\n",
              "    </tr>\n",
              "    <tr>\n",
              "      <th>230</th>\n",
              "      <td>Western Sahara</td>\n",
              "      <td>2009.5</td>\n",
              "      <td>0.000000</td>\n",
              "      <td>0.000000</td>\n",
              "      <td>0.000000</td>\n",
              "      <td>0.000000</td>\n",
              "      <td>0.000000</td>\n",
              "      <td>0.043000</td>\n",
              "      <td>0.000000</td>\n",
              "      <td>0.000000</td>\n",
              "    </tr>\n",
              "    <tr>\n",
              "      <th>231</th>\n",
              "      <td>World</td>\n",
              "      <td>2002.5</td>\n",
              "      <td>6524.920720</td>\n",
              "      <td>3365.465344</td>\n",
              "      <td>2929.620291</td>\n",
              "      <td>300.927617</td>\n",
              "      <td>103.526632</td>\n",
              "      <td>1199.250478</td>\n",
              "      <td>309.755494</td>\n",
              "      <td>2377.945719</td>\n",
              "    </tr>\n",
              "    <tr>\n",
              "      <th>232</th>\n",
              "      <td>Yemen</td>\n",
              "      <td>2009.5</td>\n",
              "      <td>0.000000</td>\n",
              "      <td>1.038660</td>\n",
              "      <td>0.000000</td>\n",
              "      <td>0.000000</td>\n",
              "      <td>0.070900</td>\n",
              "      <td>3.966437</td>\n",
              "      <td>0.000000</td>\n",
              "      <td>0.000000</td>\n",
              "    </tr>\n",
              "    <tr>\n",
              "      <th>233</th>\n",
              "      <td>Zambia</td>\n",
              "      <td>2009.5</td>\n",
              "      <td>0.234530</td>\n",
              "      <td>0.000000</td>\n",
              "      <td>10.582979</td>\n",
              "      <td>0.055819</td>\n",
              "      <td>0.000747</td>\n",
              "      <td>0.219881</td>\n",
              "      <td>0.000000</td>\n",
              "      <td>0.000000</td>\n",
              "    </tr>\n",
              "    <tr>\n",
              "      <th>234</th>\n",
              "      <td>Zimbabwe</td>\n",
              "      <td>2009.5</td>\n",
              "      <td>3.425940</td>\n",
              "      <td>0.000000</td>\n",
              "      <td>4.782550</td>\n",
              "      <td>0.082933</td>\n",
              "      <td>0.003320</td>\n",
              "      <td>0.000000</td>\n",
              "      <td>0.000000</td>\n",
              "      <td>0.000000</td>\n",
              "    </tr>\n",
              "  </tbody>\n",
              "</table>\n",
              "<p>235 rows × 10 columns</p>\n",
              "</div>"
            ],
            "text/plain": [
              "             Entity  ...  Electricity from nuclear (TWh)\n",
              "0       Afghanistan  ...                        0.000000\n",
              "1            Africa  ...                       11.559217\n",
              "2           Albania  ...                        0.000000\n",
              "3           Algeria  ...                        0.000000\n",
              "4    American Samoa  ...                        0.000000\n",
              "..              ...  ...                             ...\n",
              "230  Western Sahara  ...                        0.000000\n",
              "231           World  ...                     2377.945719\n",
              "232           Yemen  ...                        0.000000\n",
              "233          Zambia  ...                        0.000000\n",
              "234        Zimbabwe  ...                        0.000000\n",
              "\n",
              "[235 rows x 10 columns]"
            ]
          },
          "metadata": {},
          "execution_count": 192
        }
      ]
    },
    {
      "cell_type": "markdown",
      "metadata": {
        "id": "b8CKxG-_mxam"
      },
      "source": [
        "It is seen that some countries have zeros for their average electricty from different sources. These would be affecting the overall mean. Lets remove the zeros as they have the greatest impact on the mean. Most likely, they are not recorded values as every country should have some electricity production since the dataset has values starting in 1985."
      ]
    },
    {
      "cell_type": "code",
      "metadata": {
        "id": "vqCmMI29oB-t"
      },
      "source": [
        "df_zero_removed = df[df['Electricity from coal (TWh)']!=0]\n",
        "df_zero_removed = df_zero_removed[df_zero_removed['Electricity from gas (TWh)']!=0]\n",
        "df_zero_removed = df_zero_removed[df_zero_removed['Electricity from hydro (TWh)']!=0]\n",
        "df_zero_removed = df_zero_removed[df_zero_removed['Electricity from other renewables (TWh)']!=0]\n",
        "df_zero_removed = df_zero_removed[df_zero_removed['Electricity from solar (TWh)']!=0]\n",
        "df_zero_removed = df_zero_removed[df_zero_removed['Electricity from oil (TWh)']!=0]\n",
        "df_zero_removed = df_zero_removed[df_zero_removed['Electricity from wind (TWh)']!=0]\n",
        "df_zero_removed = df_zero_removed[df_zero_removed['Electricity from nuclear (TWh)']!=0]"
      ],
      "execution_count": 201,
      "outputs": []
    },
    {
      "cell_type": "code",
      "metadata": {
        "colab": {
          "base_uri": "https://localhost:8080/",
          "height": 297
        },
        "id": "iSxR9p2GwD-u",
        "outputId": "b5d3dc19-4b1b-4f28-f2c4-ffc8101454af"
      },
      "source": [
        "df_zero_removed.describe()"
      ],
      "execution_count": 210,
      "outputs": [
        {
          "output_type": "execute_result",
          "data": {
            "text/html": [
              "<div>\n",
              "<style scoped>\n",
              "    .dataframe tbody tr th:only-of-type {\n",
              "        vertical-align: middle;\n",
              "    }\n",
              "\n",
              "    .dataframe tbody tr th {\n",
              "        vertical-align: top;\n",
              "    }\n",
              "\n",
              "    .dataframe thead th {\n",
              "        text-align: right;\n",
              "    }\n",
              "</style>\n",
              "<table border=\"1\" class=\"dataframe\">\n",
              "  <thead>\n",
              "    <tr style=\"text-align: right;\">\n",
              "      <th></th>\n",
              "      <th>Year</th>\n",
              "      <th>Electricity from coal (TWh)</th>\n",
              "      <th>Electricity from gas (TWh)</th>\n",
              "      <th>Electricity from hydro (TWh)</th>\n",
              "      <th>Electricity from other renewables (TWh)</th>\n",
              "      <th>Electricity from solar (TWh)</th>\n",
              "      <th>Electricity from oil (TWh)</th>\n",
              "      <th>Electricity from wind (TWh)</th>\n",
              "      <th>Electricity from nuclear (TWh)</th>\n",
              "    </tr>\n",
              "  </thead>\n",
              "  <tbody>\n",
              "    <tr>\n",
              "      <th>count</th>\n",
              "      <td>861.000000</td>\n",
              "      <td>833.000000</td>\n",
              "      <td>833.000000</td>\n",
              "      <td>861.000000</td>\n",
              "      <td>861.000000</td>\n",
              "      <td>861.000000</td>\n",
              "      <td>833.000000</td>\n",
              "      <td>861.000000</td>\n",
              "      <td>861.000000</td>\n",
              "    </tr>\n",
              "    <tr>\n",
              "      <th>mean</th>\n",
              "      <td>2007.614402</td>\n",
              "      <td>807.529734</td>\n",
              "      <td>369.340501</td>\n",
              "      <td>310.735130</td>\n",
              "      <td>38.241774</td>\n",
              "      <td>13.866241</td>\n",
              "      <td>116.218341</td>\n",
              "      <td>43.954780</td>\n",
              "      <td>313.984903</td>\n",
              "    </tr>\n",
              "    <tr>\n",
              "      <th>std</th>\n",
              "      <td>8.612321</td>\n",
              "      <td>1625.073064</td>\n",
              "      <td>784.123498</td>\n",
              "      <td>629.611779</td>\n",
              "      <td>79.318322</td>\n",
              "      <td>57.039129</td>\n",
              "      <td>249.492596</td>\n",
              "      <td>132.797525</td>\n",
              "      <td>536.854832</td>\n",
              "    </tr>\n",
              "    <tr>\n",
              "      <th>min</th>\n",
              "      <td>1985.000000</td>\n",
              "      <td>0.090900</td>\n",
              "      <td>0.001030</td>\n",
              "      <td>0.057000</td>\n",
              "      <td>0.003500</td>\n",
              "      <td>0.000007</td>\n",
              "      <td>0.005837</td>\n",
              "      <td>0.000490</td>\n",
              "      <td>0.111111</td>\n",
              "    </tr>\n",
              "    <tr>\n",
              "      <th>25%</th>\n",
              "      <td>2001.000000</td>\n",
              "      <td>22.889000</td>\n",
              "      <td>21.884000</td>\n",
              "      <td>12.838601</td>\n",
              "      <td>2.157000</td>\n",
              "      <td>0.010105</td>\n",
              "      <td>5.826373</td>\n",
              "      <td>0.269000</td>\n",
              "      <td>15.170000</td>\n",
              "    </tr>\n",
              "    <tr>\n",
              "      <th>50%</th>\n",
              "      <td>2009.000000</td>\n",
              "      <td>116.962366</td>\n",
              "      <td>76.574269</td>\n",
              "      <td>65.851684</td>\n",
              "      <td>7.532763</td>\n",
              "      <td>0.254961</td>\n",
              "      <td>23.109876</td>\n",
              "      <td>2.177000</td>\n",
              "      <td>63.028000</td>\n",
              "    </tr>\n",
              "    <tr>\n",
              "      <th>75%</th>\n",
              "      <td>2015.000000</td>\n",
              "      <td>859.170822</td>\n",
              "      <td>410.272061</td>\n",
              "      <td>351.567109</td>\n",
              "      <td>46.660000</td>\n",
              "      <td>2.358881</td>\n",
              "      <td>120.304257</td>\n",
              "      <td>19.847122</td>\n",
              "      <td>421.076000</td>\n",
              "    </tr>\n",
              "    <tr>\n",
              "      <th>max</th>\n",
              "      <td>2020.000000</td>\n",
              "      <td>9345.340997</td>\n",
              "      <td>5943.112329</td>\n",
              "      <td>4355.041636</td>\n",
              "      <td>702.887552</td>\n",
              "      <td>844.385951</td>\n",
              "      <td>1364.578206</td>\n",
              "      <td>1590.189440</td>\n",
              "      <td>2720.674471</td>\n",
              "    </tr>\n",
              "  </tbody>\n",
              "</table>\n",
              "</div>"
            ],
            "text/plain": [
              "              Year  ...  Electricity from nuclear (TWh)\n",
              "count   861.000000  ...                      861.000000\n",
              "mean   2007.614402  ...                      313.984903\n",
              "std       8.612321  ...                      536.854832\n",
              "min    1985.000000  ...                        0.111111\n",
              "25%    2001.000000  ...                       15.170000\n",
              "50%    2009.000000  ...                       63.028000\n",
              "75%    2015.000000  ...                      421.076000\n",
              "max    2020.000000  ...                     2720.674471\n",
              "\n",
              "[8 rows x 9 columns]"
            ]
          },
          "metadata": {},
          "execution_count": 210
        }
      ]
    },
    {
      "cell_type": "markdown",
      "metadata": {
        "id": "-zGwf611w1B_"
      },
      "source": [
        "It is seen that the mean for all sources has been raised greatly by removing the zeros. There are no zeros present in the min statistic. I believe these values to be more accurate."
      ]
    },
    {
      "cell_type": "markdown",
      "metadata": {
        "id": "Zi6HtBVRxrXd"
      },
      "source": [
        "Now with accurate data we can perform a true analysis."
      ]
    },
    {
      "cell_type": "code",
      "metadata": {
        "id": "skSnTEAgvW46"
      },
      "source": [
        "# Group\n",
        "df_zero_removed_grouped = df_zero_removed.groupby(['Entity'], as_index=False).mean()"
      ],
      "execution_count": 211,
      "outputs": []
    },
    {
      "cell_type": "code",
      "metadata": {
        "id": "BkuFnwmsWgyP"
      },
      "source": [
        "top_five_coal_produced = df_zero_removed_grouped.sort_values('Electricity from coal (TWh)', ascending=False)\n",
        "top_five_coal_produced = top_five_coal_produced[top_five_coal_produced['Entity']!='World'][:5]"
      ],
      "execution_count": 212,
      "outputs": []
    },
    {
      "cell_type": "code",
      "metadata": {
        "id": "jXOwcJdFXIJJ"
      },
      "source": [
        "top_five_hydro_produced = df_zero_removed_grouped.sort_values('Electricity from hydro (TWh)', ascending=False)\n",
        "top_five_hydro_produced = top_five_hydro_produced[top_five_hydro_produced['Entity']!='World'][:5]"
      ],
      "execution_count": 216,
      "outputs": []
    },
    {
      "cell_type": "code",
      "metadata": {
        "colab": {
          "base_uri": "https://localhost:8080/",
          "height": 204
        },
        "id": "r31JhOR5Xnpx",
        "outputId": "ff5f1c18-c3ed-42b6-df00-a7c1f68dad43"
      },
      "source": [
        "top_five_coal_produced"
      ],
      "execution_count": 217,
      "outputs": [
        {
          "output_type": "execute_result",
          "data": {
            "text/html": [
              "<div>\n",
              "<style scoped>\n",
              "    .dataframe tbody tr th:only-of-type {\n",
              "        vertical-align: middle;\n",
              "    }\n",
              "\n",
              "    .dataframe tbody tr th {\n",
              "        vertical-align: top;\n",
              "    }\n",
              "\n",
              "    .dataframe thead th {\n",
              "        text-align: right;\n",
              "    }\n",
              "</style>\n",
              "<table border=\"1\" class=\"dataframe\">\n",
              "  <thead>\n",
              "    <tr style=\"text-align: right;\">\n",
              "      <th></th>\n",
              "      <th>Entity</th>\n",
              "      <th>Year</th>\n",
              "      <th>Electricity from coal (TWh)</th>\n",
              "      <th>Electricity from gas (TWh)</th>\n",
              "      <th>Electricity from hydro (TWh)</th>\n",
              "      <th>Electricity from other renewables (TWh)</th>\n",
              "      <th>Electricity from solar (TWh)</th>\n",
              "      <th>Electricity from oil (TWh)</th>\n",
              "      <th>Electricity from wind (TWh)</th>\n",
              "      <th>Electricity from nuclear (TWh)</th>\n",
              "    </tr>\n",
              "  </thead>\n",
              "  <tbody>\n",
              "    <tr>\n",
              "      <th>2</th>\n",
              "      <td>Asia Pacific</td>\n",
              "      <td>2004.500000</td>\n",
              "      <td>3691.044309</td>\n",
              "      <td>860.247030</td>\n",
              "      <td>886.222389</td>\n",
              "      <td>80.961214</td>\n",
              "      <td>43.884174</td>\n",
              "      <td>361.161075</td>\n",
              "      <td>94.916325</td>\n",
              "      <td>462.320473</td>\n",
              "    </tr>\n",
              "    <tr>\n",
              "      <th>8</th>\n",
              "      <td>China</td>\n",
              "      <td>2006.500000</td>\n",
              "      <td>2450.931260</td>\n",
              "      <td>78.770032</td>\n",
              "      <td>594.639505</td>\n",
              "      <td>26.880755</td>\n",
              "      <td>32.946036</td>\n",
              "      <td>71.823478</td>\n",
              "      <td>91.126476</td>\n",
              "      <td>96.018607</td>\n",
              "    </tr>\n",
              "    <tr>\n",
              "      <th>23</th>\n",
              "      <td>North America</td>\n",
              "      <td>2002.000000</td>\n",
              "      <td>1912.753984</td>\n",
              "      <td>921.259538</td>\n",
              "      <td>652.603791</td>\n",
              "      <td>81.875589</td>\n",
              "      <td>14.105459</td>\n",
              "      <td>161.880466</td>\n",
              "      <td>73.530467</td>\n",
              "      <td>833.968156</td>\n",
              "    </tr>\n",
              "    <tr>\n",
              "      <th>39</th>\n",
              "      <td>United States</td>\n",
              "      <td>2002.500000</td>\n",
              "      <td>1698.028763</td>\n",
              "      <td>789.226508</td>\n",
              "      <td>276.141708</td>\n",
              "      <td>65.981282</td>\n",
              "      <td>15.574149</td>\n",
              "      <td>92.144920</td>\n",
              "      <td>71.447699</td>\n",
              "      <td>716.944932</td>\n",
              "    </tr>\n",
              "    <tr>\n",
              "      <th>12</th>\n",
              "      <td>Europe</td>\n",
              "      <td>2002.441176</td>\n",
              "      <td>1073.986742</td>\n",
              "      <td>556.917175</td>\n",
              "      <td>577.958056</td>\n",
              "      <td>85.924634</td>\n",
              "      <td>29.439701</td>\n",
              "      <td>170.283230</td>\n",
              "      <td>109.271511</td>\n",
              "      <td>984.554609</td>\n",
              "    </tr>\n",
              "  </tbody>\n",
              "</table>\n",
              "</div>"
            ],
            "text/plain": [
              "           Entity  ...  Electricity from nuclear (TWh)\n",
              "2    Asia Pacific  ...                      462.320473\n",
              "8           China  ...                       96.018607\n",
              "23  North America  ...                      833.968156\n",
              "39  United States  ...                      716.944932\n",
              "12         Europe  ...                      984.554609\n",
              "\n",
              "[5 rows x 10 columns]"
            ]
          },
          "metadata": {},
          "execution_count": 217
        }
      ]
    },
    {
      "cell_type": "code",
      "metadata": {
        "colab": {
          "base_uri": "https://localhost:8080/",
          "height": 204
        },
        "id": "9wmY7QQAXrwZ",
        "outputId": "80987a08-1338-4933-ec18-d96eebf0f910"
      },
      "source": [
        "top_five_hydro_produced"
      ],
      "execution_count": 218,
      "outputs": [
        {
          "output_type": "execute_result",
          "data": {
            "text/html": [
              "<div>\n",
              "<style scoped>\n",
              "    .dataframe tbody tr th:only-of-type {\n",
              "        vertical-align: middle;\n",
              "    }\n",
              "\n",
              "    .dataframe tbody tr th {\n",
              "        vertical-align: top;\n",
              "    }\n",
              "\n",
              "    .dataframe thead th {\n",
              "        text-align: right;\n",
              "    }\n",
              "</style>\n",
              "<table border=\"1\" class=\"dataframe\">\n",
              "  <thead>\n",
              "    <tr style=\"text-align: right;\">\n",
              "      <th></th>\n",
              "      <th>Entity</th>\n",
              "      <th>Year</th>\n",
              "      <th>Electricity from coal (TWh)</th>\n",
              "      <th>Electricity from gas (TWh)</th>\n",
              "      <th>Electricity from hydro (TWh)</th>\n",
              "      <th>Electricity from other renewables (TWh)</th>\n",
              "      <th>Electricity from solar (TWh)</th>\n",
              "      <th>Electricity from oil (TWh)</th>\n",
              "      <th>Electricity from wind (TWh)</th>\n",
              "      <th>Electricity from nuclear (TWh)</th>\n",
              "    </tr>\n",
              "  </thead>\n",
              "  <tbody>\n",
              "    <tr>\n",
              "      <th>2</th>\n",
              "      <td>Asia Pacific</td>\n",
              "      <td>2004.500000</td>\n",
              "      <td>3691.044309</td>\n",
              "      <td>860.247030</td>\n",
              "      <td>886.222389</td>\n",
              "      <td>80.961214</td>\n",
              "      <td>43.884174</td>\n",
              "      <td>361.161075</td>\n",
              "      <td>94.916325</td>\n",
              "      <td>462.320473</td>\n",
              "    </tr>\n",
              "    <tr>\n",
              "      <th>23</th>\n",
              "      <td>North America</td>\n",
              "      <td>2002.000000</td>\n",
              "      <td>1912.753984</td>\n",
              "      <td>921.259538</td>\n",
              "      <td>652.603791</td>\n",
              "      <td>81.875589</td>\n",
              "      <td>14.105459</td>\n",
              "      <td>161.880466</td>\n",
              "      <td>73.530467</td>\n",
              "      <td>833.968156</td>\n",
              "    </tr>\n",
              "    <tr>\n",
              "      <th>30</th>\n",
              "      <td>South &amp; Central America</td>\n",
              "      <td>2008.500000</td>\n",
              "      <td>46.910032</td>\n",
              "      <td>167.761570</td>\n",
              "      <td>646.865271</td>\n",
              "      <td>43.152112</td>\n",
              "      <td>2.185260</td>\n",
              "      <td>125.583162</td>\n",
              "      <td>15.024289</td>\n",
              "      <td>19.973492</td>\n",
              "    </tr>\n",
              "    <tr>\n",
              "      <th>8</th>\n",
              "      <td>China</td>\n",
              "      <td>2006.500000</td>\n",
              "      <td>2450.931260</td>\n",
              "      <td>78.770032</td>\n",
              "      <td>594.639505</td>\n",
              "      <td>26.880755</td>\n",
              "      <td>32.946036</td>\n",
              "      <td>71.823478</td>\n",
              "      <td>91.126476</td>\n",
              "      <td>96.018607</td>\n",
              "    </tr>\n",
              "    <tr>\n",
              "      <th>12</th>\n",
              "      <td>Europe</td>\n",
              "      <td>2002.441176</td>\n",
              "      <td>1073.986742</td>\n",
              "      <td>556.917175</td>\n",
              "      <td>577.958056</td>\n",
              "      <td>85.924634</td>\n",
              "      <td>29.439701</td>\n",
              "      <td>170.283230</td>\n",
              "      <td>109.271511</td>\n",
              "      <td>984.554609</td>\n",
              "    </tr>\n",
              "  </tbody>\n",
              "</table>\n",
              "</div>"
            ],
            "text/plain": [
              "                     Entity  ...  Electricity from nuclear (TWh)\n",
              "2              Asia Pacific  ...                      462.320473\n",
              "23            North America  ...                      833.968156\n",
              "30  South & Central America  ...                       19.973492\n",
              "8                     China  ...                       96.018607\n",
              "12                   Europe  ...                      984.554609\n",
              "\n",
              "[5 rows x 10 columns]"
            ]
          },
          "metadata": {},
          "execution_count": 218
        }
      ]
    },
    {
      "cell_type": "markdown",
      "metadata": {
        "id": "nz_2ZuPgaEx5"
      },
      "source": [
        "I decided to compare average coal sourced electricity production to a renewable source of hydropower. I grouped by the country to see what country or group of countries leads in producing electricity from both a renewable and non-renewable resource. The Asia Pacific group of countries came out as the leader for both. Asia-Pacific could be using its hilly terrian to build dams to capture hydro electric power. Now, I will graph a yearly timeline of the production of electricity from coal in Asia Pacific and compare to a graph of a early timeline of the production of electricity from hydro in Asia Pacific. I would expect to see the use of coal as a source to start to be going down and the use of hydro to be going up."
      ]
    },
    {
      "cell_type": "code",
      "metadata": {
        "id": "tKoHLHbTbnUK"
      },
      "source": [
        "asia_pacific = df_zero_removed[df_zero_removed['Entity']=='Asia Pacific']"
      ],
      "execution_count": 221,
      "outputs": []
    },
    {
      "cell_type": "code",
      "metadata": {
        "colab": {
          "base_uri": "https://localhost:8080/",
          "height": 282
        },
        "id": "_FJBkhYmb9m1",
        "outputId": "df26ef2a-79fe-436d-a0d0-c969e9ab3581"
      },
      "source": [
        "plt.plot(asia_pacific['Year'], asia_pacific['Electricity from coal (TWh)'])\n",
        "plt.plot(asia_pacific['Year'], asia_pacific['Electricity from hydro (TWh)'])\n",
        "plt.legend(['Electricity from coal (TWh)', 'Electricity from gas (TWh)', 'Electricity from hydro (TWh)'])"
      ],
      "execution_count": 222,
      "outputs": [
        {
          "output_type": "execute_result",
          "data": {
            "text/plain": [
              "<matplotlib.legend.Legend at 0x7ff5b40baf90>"
            ]
          },
          "metadata": {},
          "execution_count": 222
        },
        {
          "output_type": "display_data",
          "data": {
            "image/png": "[encoded data removed]",
            "text/plain": [
              "<Figure size 432x288 with 1 Axes>"
            ]
          },
          "metadata": {
            "needs_background": "light"
          }
        }
      ]
    },
    {
      "cell_type": "markdown",
      "metadata": {
        "id": "4Tq90A2-e75y"
      },
      "source": [
        "It is seen in the graph that both sources are rising, Coal is rising much faster however, at the very top it looks to be flatting out. Hydro power sources are rising however, not as fast as coal. Largely because coal is cheap and availible at this time."
      ]
    },
    {
      "cell_type": "markdown",
      "metadata": {
        "id": "2aMXxiHOfcdX"
      },
      "source": [
        "I also will conduct an analyst of all the sources of electricity over the years for all countries. This will help to understand the average number present in the describe method."
      ]
    },
    {
      "cell_type": "code",
      "metadata": {
        "id": "FPDcXaLnb-R6"
      },
      "source": [
        "# Group\n",
        "grouped_by_year = df_zero_removed.groupby('Year', as_index=False).mean()"
      ],
      "execution_count": 223,
      "outputs": []
    },
    {
      "cell_type": "code",
      "metadata": {
        "colab": {
          "base_uri": "https://localhost:8080/",
          "height": 344
        },
        "id": "ChJp4W3NcxGn",
        "outputId": "3a1148ba-491c-4bae-fa3c-75c7dd0c324e"
      },
      "source": [
        "plt.plot(grouped_by_year['Year'], grouped_by_year['Electricity from coal (TWh)'])\n",
        "plt.plot(grouped_by_year['Year'], grouped_by_year['Electricity from gas (TWh)'])\n",
        "plt.plot(grouped_by_year['Year'], grouped_by_year['Electricity from hydro (TWh)'])\n",
        "plt.plot(grouped_by_year['Year'], grouped_by_year['Electricity from other renewables (TWh)'])\n",
        "plt.plot(grouped_by_year['Year'], grouped_by_year['Electricity from solar (TWh)'])\n",
        "plt.plot(grouped_by_year['Year'], grouped_by_year['Electricity from oil (TWh)'])\n",
        "plt.plot(grouped_by_year['Year'], grouped_by_year['Electricity from wind (TWh)'])\n",
        "plt.plot(grouped_by_year['Year'], grouped_by_year['Electricity from nuclear (TWh)'])\n",
        "plt.legend(['Electricity from coal (TWh)', 'Electricity from gas (TWh)', 'Electricity from hydro (TWh)', 'Electricity from other renewables (TWh)', 'Electricity from solar (TWh)', 'Electricity from oil (TWh)', 'Electricity from wind (TWh)', 'Electricity from nuclear (TWh)'], loc='center left', bbox_to_anchor=(.5, 1))"
      ],
      "execution_count": 224,
      "outputs": [
        {
          "output_type": "execute_result",
          "data": {
            "text/plain": [
              "<matplotlib.legend.Legend at 0x7ff5b40531d0>"
            ]
          },
          "metadata": {},
          "execution_count": 224
        },
        {
          "output_type": "display_data",
          "data": {
            "image/png": "[encoded data removed]",
            "text/plain": [
              "<Figure size 432x288 with 1 Axes>"
            ]
          },
          "metadata": {
            "needs_background": "light"
          }
        }
      ]
    },
    {
      "cell_type": "markdown",
      "metadata": {
        "id": "2X8cy4irfu2g"
      },
      "source": [
        "The graph shows that Coal continues to be on the top for all countries for all years. Mostly because of its abundence and effeciency with creating electricity. However, renewable sources are rising while coal and other non-renewables are decreasing. "
      ]
    },
    {
      "cell_type": "markdown",
      "metadata": {
        "id": "esq_G2HSy7Am"
      },
      "source": [
        "To prove removing the zeros presented more accurate numbers I will preform an anlysis of all sources for all countries over the years withour removing the zeros."
      ]
    },
    {
      "cell_type": "code",
      "metadata": {
        "id": "dc-0k2f0zPtT"
      },
      "source": [
        "# Group\n",
        "grouped_by_year = df.groupby('Year', as_index=False).mean()"
      ],
      "execution_count": 228,
      "outputs": []
    },
    {
      "cell_type": "code",
      "metadata": {
        "colab": {
          "base_uri": "https://localhost:8080/",
          "height": 344
        },
        "id": "4uhMKqPOzVdj",
        "outputId": "66e88074-2d54-4e26-d7b8-a0bcf22c46db"
      },
      "source": [
        "plt.plot(grouped_by_year['Year'], grouped_by_year['Electricity from coal (TWh)'])\n",
        "plt.plot(grouped_by_year['Year'], grouped_by_year['Electricity from gas (TWh)'])\n",
        "plt.plot(grouped_by_year['Year'], grouped_by_year['Electricity from hydro (TWh)'])\n",
        "plt.plot(grouped_by_year['Year'], grouped_by_year['Electricity from other renewables (TWh)'])\n",
        "plt.plot(grouped_by_year['Year'], grouped_by_year['Electricity from solar (TWh)'])\n",
        "plt.plot(grouped_by_year['Year'], grouped_by_year['Electricity from oil (TWh)'])\n",
        "plt.plot(grouped_by_year['Year'], grouped_by_year['Electricity from wind (TWh)'])\n",
        "plt.plot(grouped_by_year['Year'], grouped_by_year['Electricity from nuclear (TWh)'])\n",
        "plt.legend(['Electricity from coal (TWh)', 'Electricity from gas (TWh)', 'Electricity from hydro (TWh)', 'Electricity from other renewables (TWh)', 'Electricity from solar (TWh)', 'Electricity from oil (TWh)', 'Electricity from wind (TWh)', 'Electricity from nuclear (TWh)'], loc='center left', bbox_to_anchor=(.5, 1))"
      ],
      "execution_count": 229,
      "outputs": [
        {
          "output_type": "execute_result",
          "data": {
            "text/plain": [
              "<matplotlib.legend.Legend at 0x7ff5b3f8c510>"
            ]
          },
          "metadata": {},
          "execution_count": 229
        },
        {
          "output_type": "display_data",
          "data": {
            "image/png": "[encoded data removed]",
            "text/plain": [
              "<Figure size 432x288 with 1 Axes>"
            ]
          },
          "metadata": {
            "needs_background": "light"
          }
        }
      ]
    },
    {
      "cell_type": "markdown",
      "metadata": {
        "id": "OsPqzbszzlqg"
      },
      "source": [
        "This graph does not have any true trends. There is a large drop off in 2000 as well as a sharp increase in recent year. "
      ]
    }
  ]
}